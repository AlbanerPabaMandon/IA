{
 "cells": [
  {
   "cell_type": "markdown",
   "metadata": {},
   "source": [
    "# ALGORITMO N-REINAS"
   ]
  },
  {
   "cell_type": "markdown",
   "metadata": {},
   "source": [
    "El problema de las N reinas consiste en situar N reinas en un tablero de ajedrez de NxN sin que se amenacen entre ellas.\n",
    "Una reina amenaza a otra si está en la misma fila, columna o diagonal."
   ]
  },
  {
   "cell_type": "code",
   "execution_count": 44,
   "metadata": {},
   "outputs": [
    {
     "data": {
      "image/png": "[encoded data removed]",
      "text/plain": [
       "<IPython.core.display.Image object>"
      ]
     },
     "execution_count": 44,
     "metadata": {},
     "output_type": "execute_result"
    }
   ],
   "source": [
    "from IPython.core.display import Image\n",
    "Image(filename=('/home/albaner/Escritorio/2.png'))"
   ]
  },
  {
   "cell_type": "markdown",
   "metadata": {},
   "source": [
    "Desarrollamos el algoritmo en Python siguiendo las siguientes secuencias:"
   ]
  },
  {
   "cell_type": "code",
   "execution_count": 1,
   "metadata": {
    "collapsed": true
   },
   "outputs": [],
   "source": [
    "#Establece la matriz llena de espacios vacios definidos por el caracter \"_\" como el tablero\n",
    "def establecer():\n",
    "    global tablero\n",
    "\t\n",
    "    for i in range(DIMENSIONES):\n",
    "        tablero.append([])\n",
    "        for j in range(DIMENSIONES):\n",
    "            tablero[i].append(None)\n",
    "    for x in range(DIMENSIONES):\n",
    "        for y in range(DIMENSIONES):\n",
    "            tablero[x][y]=\"_\""
   ]
  },
  {
   "cell_type": "code",
   "execution_count": 2,
   "metadata": {
    "collapsed": true
   },
   "outputs": [],
   "source": [
    "#Imprime el tablero            \n",
    "def imprimir():\n",
    "    global tablero\n",
    "    \n",
    "    for y in range(DIMENSIONES):\n",
    "        print str([i[y] for i in tablero])+\"\\n\""
   ]
  },
  {
   "cell_type": "code",
   "execution_count": 3,
   "metadata": {
    "collapsed": true
   },
   "outputs": [],
   "source": [
    "#Ejecuta las funciones necesarias para la ejecucion\n",
    "def simular():\n",
    "    #Posiciones de la dama aleatoria\n",
    "    x=random.randint(0, DIMENSIONES-1)\n",
    "    y=random.randint(0, DIMENSIONES-1) \n",
    "    \n",
    "    #Dama aleatoria distingida por la letra R\n",
    "    posicionar(x,y,\"R\")\n",
    "    \n",
    "    iterar(x,y)\n",
    "    \n",
    "\t#Imprime la cantidad de damas que se lograron colocar en el tablero\n",
    "    print \"Damas Colocadas: \"+str(contar())+\" \\n \\n \""
   ]
  },
  {
   "cell_type": "markdown",
   "metadata": {},
   "source": [
    "Algoritmo para colocar las damas, recibe la posicion de la primera dama (la aleatoria), y encuentra las siguientes moviendose una casilla hacia la de\n",
    "derecha y tres hacia la parte inferor del tablero, viendo el tablero como una matriz circular, es decir; si al moverse desde la posicion [8][7] a la siguiente dama\n",
    "empezaria a buscar desde [1][2] en la primera casilla vacia que encuentre en y, si no encuentra ninguna, simplemente se mueve a la siguiente posicion en x"
   ]
  },
  {
   "cell_type": "code",
   "execution_count": 4,
   "metadata": {
    "collapsed": true
   },
   "outputs": [],
   "source": [
    "def iterar(x,y):\n",
    "    global tablero\n",
    "    \n",
    "    y=(y+3)%DIMENSIONES\n",
    "    \n",
    "    for i in range(DIMENSIONES):\n",
    "        x=(x+1)%DIMENSIONES\n",
    "        for j in range(DIMENSIONES):\n",
    "            if(tablero[x][(y+j)%DIMENSIONES]==\"_\"):\n",
    "                posicionar(x,(y+j)%DIMENSIONES,\"Q\")#str(i))\n",
    "                j=DIMENSIONES+1\n",
    "                y=(((y+j)%DIMENSIONES)+3)%DIMENSIONES"
   ]
  },
  {
   "cell_type": "markdown",
   "metadata": {},
   "source": [
    "Posiciona y define los ataques de una dama en las coordenadas recibidas por parametro, colocando la letra que recibe por parametro en la posicion indicada"
   ]
  },
  {
   "cell_type": "code",
   "execution_count": 5,
   "metadata": {
    "collapsed": true
   },
   "outputs": [],
   "source": [
    "def posicionar(x,y,letra):\n",
    "    global tablero\n",
    "    \n",
    "    for i in range(DIMENSIONES):\n",
    "        #Ataques en cruz\n",
    "        tablero[x][i]=\"*\"\n",
    "        tablero[i][y]=\"*\"\n",
    "        \n",
    "        #Ataques en diagonal\n",
    "        if((x+i)<DIMENSIONES and (y+i)<DIMENSIONES):\n",
    "            tablero[(x+i)][(y+i)]=\"*\"\n",
    "        if((x-i)>=0 and (y+i)<DIMENSIONES):\n",
    "            tablero[(x-i)][(y+i)]=\"*\"\n",
    "        if((x+i)<DIMENSIONES and (y-i)>=0):\n",
    "            tablero[(x+i)][(y-i)]=\"*\"\n",
    "        if((x-i)>=0 and (y-i)>=0):\n",
    "            tablero[(x-i)][(y-i)]=\"*\"\n",
    "            \n",
    "    #Coloca la ficha en la posicion indicaca\n",
    "    tablero[x][y]=letra"
   ]
  },
  {
   "cell_type": "code",
   "execution_count": 6,
   "metadata": {
    "collapsed": true
   },
   "outputs": [],
   "source": [
    "#Cuenta cuantas damas hay en el tablero\n",
    "def contar():\n",
    "    global tablero\n",
    "    \n",
    "    counter=0\n",
    "    for x in range(DIMENSIONES):\n",
    "        for y in range(DIMENSIONES):\n",
    "            if(tablero[x][y]!=\"_\" and tablero[x][y]!=\"*\"):\n",
    "                counter=counter+1\n",
    "    return counter"
   ]
  },
  {
   "cell_type": "markdown",
   "metadata": {
    "collapsed": true
   },
   "source": [
    "En la siguiente tabla se representa los resultados al ejecutar el algoritmo en 10 oportunidades para tableros con un tamaño desde 8 a 15..."
   ]
  },
  {
   "cell_type": "code",
   "execution_count": 1,
   "metadata": {},
   "outputs": [
    {
     "data": {
      "image/png": "[encoded data removed]",
      "text/plain": [
       "<IPython.core.display.Image object>"
      ]
     },
     "execution_count": 1,
     "metadata": {},
     "output_type": "execute_result"
    }
   ],
   "source": [
    "from IPython.core.display import Image\n",
    "Image(filename=('/home/albaner/Escritorio/resultado_algoritmo_nqueens.png'))"
   ]
  },
  {
   "cell_type": "code",
   "execution_count": null,
   "metadata": {
    "collapsed": true
   },
   "outputs": [],
   "source": []
  }
 ],
 "metadata": {
  "kernelspec": {
   "display_name": "Python 2",
   "language": "python",
   "name": "python2"
  },
  "language_info": {
   "codemirror_mode": {
    "name": "ipython",
    "version": 2
   },
   "file_extension": ".py",
   "mimetype": "text/x-python",
   "name": "python",
   "nbconvert_exporter": "python",
   "pygments_lexer": "ipython2",
   "version": "2.7.13"
  }
 },
 "nbformat": 4,
 "nbformat_minor": 2
}
